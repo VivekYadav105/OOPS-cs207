{
 "cells": [
  {
   "cell_type": "markdown",
   "id": "hybrid-explosion",
   "metadata": {},
   "source": [
    "# Data types in python"
   ]
  },
  {
   "cell_type": "code",
   "execution_count": 2,
   "id": "outdoor-youth",
   "metadata": {},
   "outputs": [
    {
     "name": "stdout",
     "output_type": "stream",
     "text": [
      "<class 'int'>\n",
      "<class 'str'>\n",
      "<class 'str'>\n",
      "<class 'str'>\n",
      "<class 'bool'>\n",
      "<class 'set'>\n",
      "<class 'list'>\n",
      "<class 'float'>\n",
      "<class 'complex'>\n",
      "<class 'tuple'>\n",
      "<class 'dict'>\n"
     ]
    }
   ],
   "source": [
    "a=10\n",
    "b,c,d='a','alpha',\"alpha\"\n",
    "e=True\n",
    "f={1,2,3,4}\n",
    "g=['q',2,44,33.43,True,{1,2,34,4},[2,3,4]]\n",
    "h=13.33;i=13j+3\n",
    "j=(33,232,34,55)\n",
    "k={1:'a',2:'b',3:'c',4:'d',5:'e'}\n",
    "print(type(a))\n",
    "print(type(b))\n",
    "print(type(c))\n",
    "print(type(d))\n",
    "print(type(e))\n",
    "print(type(f))\n",
    "print(type(g))\n",
    "print(type(h))\n",
    "print(type(i))\n",
    "print(type(j))\n",
    "print(type(k))"
   ]
  },
  {
   "cell_type": "markdown",
   "id": "environmental-edition",
   "metadata": {},
   "source": [
    "### explicit type conversion in python"
   ]
  },
  {
   "cell_type": "code",
   "execution_count": 27,
   "id": "prime-cleaner",
   "metadata": {},
   "outputs": [
    {
     "name": "stdout",
     "output_type": "stream",
     "text": [
      "<class 'int'>\n",
      "30\n",
      "<class 'float'>\n",
      "30.0\n",
      "<class 'str'>\n",
      "30.03\n",
      "<class 'list'>\n",
      "['3', '0', '.', '0']\n",
      "<class 'tuple'>\n",
      "('3', '0', '.', '0')\n",
      "<class 'set'>\n",
      "{'.', '0', '3'}\n",
      "<class 'bool'>\n",
      "True\n"
     ]
    }
   ],
   "source": [
    "a=30\n",
    "print(type(a))           #explicit type conversion\n",
    "print(a)\n",
    "a=float(a)\n",
    "print(type(a))\n",
    "print(a)\n",
    "a=str(a)\n",
    "print(type(a))\n",
    "print(a+\"3\")\n",
    "a=list(a)\n",
    "print(type(a))\n",
    "print(a)\n",
    "a=tuple(a)\n",
    "print(type(a))\n",
    "print(a)\n",
    "a=set(a)\n",
    "print(type(a))\n",
    "print(a)\n",
    "a=bool(a)\n",
    "print(type(a))\n",
    "print(a)"
   ]
  },
  {
   "cell_type": "markdown",
   "id": "consolidated-retrieval",
   "metadata": {},
   "source": [
    "### implicit type conversion"
   ]
  },
  {
   "cell_type": "code",
   "execution_count": 33,
   "id": "least-banks",
   "metadata": {},
   "outputs": [
    {
     "name": "stdout",
     "output_type": "stream",
     "text": [
      "a:<class 'int'>,b:<class 'float'>,c:<class 'float'>\n",
      "a:30,b:65.55,c:95.55\n",
      "300500\n"
     ]
    },
    {
     "ename": "TypeError",
     "evalue": "unsupported operand type(s) for +: 'int' and 'str'",
     "output_type": "error",
     "traceback": [
      "\u001b[1;31m---------------------------------------------------------------------------\u001b[0m",
      "\u001b[1;31mTypeError\u001b[0m                                 Traceback (most recent call last)",
      "\u001b[1;32m<ipython-input-33-699d08a24fde>\u001b[0m in \u001b[0;36m<module>\u001b[1;34m\u001b[0m\n\u001b[0;32m      8\u001b[0m \u001b[0mvar1\u001b[0m\u001b[1;33m=\u001b[0m\u001b[0mstr\u001b[0m\u001b[1;33m(\u001b[0m\u001b[0mvar1\u001b[0m\u001b[1;33m)\u001b[0m\u001b[1;33m\u001b[0m\u001b[1;33m\u001b[0m\u001b[0m\n\u001b[0;32m      9\u001b[0m \u001b[0mprint\u001b[0m\u001b[1;33m(\u001b[0m\u001b[0mvar1\u001b[0m \u001b[1;33m+\u001b[0m \u001b[0mvar2\u001b[0m\u001b[1;33m)\u001b[0m\u001b[1;33m\u001b[0m\u001b[1;33m\u001b[0m\u001b[0m\n\u001b[1;32m---> 10\u001b[1;33m \u001b[0mprint\u001b[0m\u001b[1;33m(\u001b[0m\u001b[0mint\u001b[0m\u001b[1;33m(\u001b[0m\u001b[0mvar1\u001b[0m\u001b[1;33m)\u001b[0m \u001b[1;33m+\u001b[0m \u001b[0mvar2\u001b[0m\u001b[1;33m)\u001b[0m\u001b[1;33m\u001b[0m\u001b[1;33m\u001b[0m\u001b[0m\n\u001b[0m",
      "\u001b[1;31mTypeError\u001b[0m: unsupported operand type(s) for +: 'int' and 'str'"
     ]
    }
   ],
   "source": [
    "a=30\n",
    "b=65.55\n",
    "c=a+b                              # a is implicitly converted into float since int has more precedence\n",
    "print(f'a:{type(a)},b:{type(b)},c:{type(c)}')\n",
    "print(f'a:{a},b:{b},c:{c}') \n",
    "var1 = 300\n",
    "var2 = \"500\"\n",
    "var1=str(var1)\n",
    "print(var1 + var2)\n",
    "print(int(var1) + var2)"
   ]
  },
  {
   "cell_type": "markdown",
   "id": "identified-cardiff",
   "metadata": {},
   "source": [
    "### int datatype"
   ]
  },
  {
   "cell_type": "code",
   "execution_count": 66,
   "id": "studied-slovenia",
   "metadata": {},
   "outputs": [
    {
     "name": "stdout",
     "output_type": "stream",
     "text": [
      "1023232\n",
      "<class 'int'>\n",
      "28\n",
      "102323233\n",
      "<class 'str'>\n",
      "the max size value is 9223372036854775807\n",
      "11111001110100000000\n",
      "3716400\n",
      "f9d00\n",
      "a:<class 'int'>,b:<class 'int'>\n"
     ]
    },
    {
     "ename": "TypeError",
     "evalue": "unsupported operand type(s) for +: 'int' and 'str'",
     "output_type": "error",
     "traceback": [
      "\u001b[1;31m---------------------------------------------------------------------------\u001b[0m",
      "\u001b[1;31mTypeError\u001b[0m                                 Traceback (most recent call last)",
      "\u001b[1;32m<ipython-input-66-e41a8f821641>\u001b[0m in \u001b[0;36m<module>\u001b[1;34m\u001b[0m\n\u001b[0;32m     13\u001b[0m \u001b[0mb\u001b[0m\u001b[1;33m=\u001b[0m\u001b[0ma\u001b[0m\u001b[1;33m*\u001b[0m\u001b[1;36m10000000000000000\u001b[0m\u001b[1;33m\u001b[0m\u001b[1;33m\u001b[0m\u001b[0m\n\u001b[0;32m     14\u001b[0m \u001b[0mprint\u001b[0m\u001b[1;33m(\u001b[0m\u001b[1;34mf'a:{type(a)},b:{type(b)}'\u001b[0m\u001b[1;33m)\u001b[0m\u001b[1;31m#   the is no max value of int in python\u001b[0m\u001b[1;33m\u001b[0m\u001b[1;33m\u001b[0m\u001b[0m\n\u001b[1;32m---> 15\u001b[1;33m \u001b[0mprint\u001b[0m\u001b[1;33m(\u001b[0m\u001b[0ma\u001b[0m\u001b[1;33m+\u001b[0m\u001b[1;34m'33'\u001b[0m\u001b[1;33m)\u001b[0m\u001b[1;33m\u001b[0m\u001b[1;33m\u001b[0m\u001b[0m\n\u001b[0m",
      "\u001b[1;31mTypeError\u001b[0m: unsupported operand type(s) for +: 'int' and 'str'"
     ]
    }
   ],
   "source": [
    "import sys\n",
    "a=1023232\n",
    "print(a)\n",
    "print(type(a))\n",
    "print(a.__sizeof__())\n",
    "print(str(a)+'33')\n",
    "print(type(str(a)+'33'))\n",
    "print(\"the max size value is\",sys.maxsize)\n",
    "print(format(a,'b'))\n",
    "print(format(a,'o'))\n",
    "print(format(a,'x'))\n",
    "a=9223372036854775807\n",
    "b=a*10000000000000000\n",
    "print(f'a:{type(a)},b:{type(b)}')#   the is no max value of int in python\n",
    "print(a+'33')"
   ]
  },
  {
   "cell_type": "markdown",
   "id": "blond-tiger",
   "metadata": {},
   "source": [
    "### float datatype"
   ]
  },
  {
   "cell_type": "code",
   "execution_count": 60,
   "id": "descending-mathematics",
   "metadata": {},
   "outputs": [
    {
     "name": "stdout",
     "output_type": "stream",
     "text": [
      "13.3345334324434\n",
      "<class 'float'>\n",
      "<class 'float'>\n",
      "13.3345\n",
      "13.3345334324\n"
     ]
    }
   ],
   "source": [
    "k=13.3345334324434\n",
    "print(k)\n",
    "print(type(k))\n",
    "print(type(k*92.23372036854775807))\n",
    "print(format(k,'.4f'))\n",
    "print(format(k,'.10f'))"
   ]
  },
  {
   "cell_type": "markdown",
   "id": "related-pierre",
   "metadata": {},
   "source": [
    "### complex datatype"
   ]
  },
  {
   "cell_type": "code",
   "execution_count": 69,
   "id": "nearby-parallel",
   "metadata": {},
   "outputs": [
    {
     "name": "stdout",
     "output_type": "stream",
     "text": [
      "<class 'complex'>\n",
      "<class 'float'>\n"
     ]
    }
   ],
   "source": [
    "k=13.77+3j;m=13.77+3\n",
    "print(type(k))\n",
    "print(type(m))"
   ]
  },
  {
   "cell_type": "markdown",
   "id": "ordinary-maryland",
   "metadata": {},
   "source": [
    "### boolean datatype "
   ]
  },
  {
   "cell_type": "code",
   "execution_count": 49,
   "id": "injured-salon",
   "metadata": {},
   "outputs": [
    {
     "name": "stdout",
     "output_type": "stream",
     "text": [
      "a:<class 'bool'>,b:<class 'bool'>\n",
      "0\n",
      "1\n",
      "c:True,d:False,e:True,f:False,g:False,h:False\n",
      "True\n",
      "False\n"
     ]
    }
   ],
   "source": [
    "a=True\n",
    "b=False\n",
    "print(f'a:{type(a)},b:{type(b)}')\n",
    "print(int(b))\n",
    "print(int(a))\n",
    "c='hello'\n",
    "d=''\n",
    "e=' ';f=[];g={};h=()\n",
    "print(f'c:{bool(c)},d:{bool(d)},e:{bool(e)},f:{bool(f)},g:{bool(g)},h:{bool(h)}')\n",
    "print(10==10)\n",
    "print(10==9)"
   ]
  },
  {
   "cell_type": "markdown",
   "id": "acting-printing",
   "metadata": {},
   "source": [
    "### list datatype\n"
   ]
  },
  {
   "cell_type": "code",
   "execution_count": 13,
   "id": "temporal-detective",
   "metadata": {},
   "outputs": [
    {
     "name": "stdout",
     "output_type": "stream",
     "text": [
      "[33, 444, 'a', True, 13.332, 'alpha', (3+2j), {1, 2, 3, 4}, [1, 32, 3], {1: 'a'}]\n",
      "33\n",
      "{1: 'a'}\n",
      "[33, 444, 'a', True, 13.332, 'alpha', (3+2j), {1, 2, 3, 4}, [1, 32, 3], {1: 'a'}]\n",
      "[True, 13.332]\n",
      "[True, 13.332, 'alpha', (3+2j), {1, 2, 3, 4}, [1, 32, 3]]\n",
      "[444, 'a', True, 13.332, 'alpha', (3+2j), {1, 2, 3, 4}, [1, 32, 3]]\n",
      "[33, 'a', 13.332, (3+2j), [1, 32, 3]]\n",
      "[True, 'alpha', {1, 2, 3, 4}]\n",
      "['h', 'e', 'l', 'l', 'o', ' ', 'w', 'o', 'r', 'l', 'd']\n",
      "[33, 444, 'a', True, 13.332, 'alpha', (3+2j), {1, 2, 3, 4}, [1, 32, 3], {1: 'a'}, 22]\n",
      "[33, 444, 'a', True, 13.332, 'alpha', (3+2j), {1, 2, 3, 4}, [1, 32, 3], {1: 'a'}]\n",
      "[33, 444, 'a', 22, True, 13.332, 'alpha', (3+2j), {1, 2, 3, 4}, [1, 32, 3], {1: 'a'}]\n",
      "[33, 444, 'a', True, 13.332, 'alpha', (3+2j), {1, 2, 3, 4}, [1, 32, 3], {1: 'a'}]\n"
     ]
    }
   ],
   "source": [
    "a=[33,444,'a',True,13.332,'alpha',2j+3,{1,2,3,4},[1,32,3],{1:'a'}]\n",
    "b=[22,322,33,4,'b']\n",
    "print(a)               \n",
    "print(a+b)         #list concatination\n",
    "print(a[0])          #accesing elements of the list\n",
    "print(a[-1])\n",
    "print(a[:])\n",
    "print(a[3:5])\n",
    "print(a[-7:-1])\n",
    "print(a[1:-1])\n",
    "print(a[::2])\n",
    "print(a[3:8:2])\n",
    "k=\"hello world\"\n",
    "print(list(k))              #type casting to list\n",
    "a.append(22)\n",
    "print(\"a.append\",a)\n",
    "a.pop()\n",
    "print(\"a.pop\",a)\n",
    "a.insert(3,22)\n",
    "print(\"a.insert\",a)\n",
    "a.remove(22)\n",
    "print(\"a.remove\",a)\n",
    "c=a.copy()\n",
    "print(\"c:\",c)"
   ]
  },
  {
   "cell_type": "markdown",
   "id": "seasonal-restoration",
   "metadata": {},
   "source": [
    "### tuple datatype"
   ]
  },
  {
   "cell_type": "code",
   "execution_count": 60,
   "id": "handled-dairy",
   "metadata": {},
   "outputs": [
    {
     "name": "stdout",
     "output_type": "stream",
     "text": [
      "(33, 12, 3, 1, 'a', True)\n",
      "<class 'int'>\n",
      "33\n",
      "<class 'int'>\n",
      "(33, 12, 3, 1, 'a', True)\n",
      "(3, 1, 'a')\n",
      "(12, 1, True)\n",
      "True\n",
      "(33, 12, 3, 1, 'a', True, 33, 121, 'a', True, 12.212)\n",
      "alpha: 33\n",
      "beta: 12\n",
      "zeta: True\n"
     ]
    }
   ],
   "source": [
    "a=(33,12,3,1,'a',True)\n",
    "print(a)\n",
    "print(type(b))\n",
    "#a.append(4) gives error we cannot change list\n",
    "b=(33)\n",
    "print(b)\n",
    "print(type(b))\n",
    "print(a[:])\n",
    "print(a[2:5])\n",
    "print(a[1:6:2])\n",
    "print(a[-1])\n",
    "b=(33,121,'a',True,12.212)\n",
    "print(a+b)                                             #tuple concatination\n",
    "(alpha,beta,gamma,delta,omega,zeta)=a\n",
    "print(\"alpha:\",alpha)                                 #packing a tuple in python\n",
    "print(\"beta:\",beta)\n",
    "print(\"zeta:\",zeta)"
   ]
  },
  {
   "cell_type": "markdown",
   "id": "optical-conversation",
   "metadata": {},
   "source": [
    "### set datatype"
   ]
  },
  {
   "cell_type": "code",
   "execution_count": 44,
   "id": "periodic-mission",
   "metadata": {},
   "outputs": [
    {
     "name": "stdout",
     "output_type": "stream",
     "text": [
      "{1, 2, 3, 4}\n",
      "{1, 2, 3, 4, 33}\n",
      "a add b {1, 2, 3, 4, 33, 5345, 43}\n",
      "b U c: {33, 43, 5345}\n",
      "{2, 3, 33, 5345, 43}\n"
     ]
    }
   ],
   "source": [
    "a={1,2,3,4}\n",
    "print(a)\n",
    "#a[1] gives error cannot acess elemts\n",
    "a.add(33)#adding elemts to set\n",
    "print(a)\n",
    "b={33,43,5345}\n",
    "#a.update(33)gives error\n",
    "a.update(b)#joinning two sets\n",
    "c={'a','b','c'}\n",
    "b.union(c)\n",
    "print(\"a add b\",a)\n",
    "print(\"b U c:\",b)\n",
    "a.remove(4)\n",
    "a.pop()#removes a random element\n",
    "print(a)"
   ]
  },
  {
   "cell_type": "markdown",
   "id": "collective-actor",
   "metadata": {},
   "source": [
    "### dictionary"
   ]
  },
  {
   "cell_type": "code",
   "execution_count": 32,
   "id": "engaged-disney",
   "metadata": {},
   "outputs": [
    {
     "name": "stdout",
     "output_type": "stream",
     "text": [
      "{'first': 'a', 'second': 'b', 'third': 'c', 'fourth': 'd', 'fifth': 'e', 'sixth': 'f', 'seventh': 'g', 'eighth': 'h'}\n",
      "<class 'dict'>\n",
      "a\n",
      "{'first': 'a', 'second': 'b', 'third': 'c', 'fourth': 'd', 'fifth': 'e', 'sixth': 6, 'seventh': 'g', 'eighth': 'h', 'ninth': 9, 'tenth': '10'}\n",
      "{'first': 'a', 'second': 'b', 'third': 'c', 'fourth': 'd', 'fifth': 'e', 'sixth': 6, 'eighth': 'h', 'ninth': 9, 'tenth': '10'}\n",
      "{'first': 'a', 'second': 'b', 'third': 'c', 'fourth': 'd', 'fifth': 'e', 'sixth': 6, 'eighth': 'h', 'ninth': 9}\n",
      "{'first': 'a', 'second': 'b', 'third': 'c', 'fourth': 'd', 'fifth': 'e', 'sixth': 6, 'eighth': 'h', 'ninth': 9}\n",
      "{}\n",
      "d\n",
      "None\n",
      "{'first': 'a', 'second': 'b', 'third': 'c', 'fourth': 'd', 'fifth': 'e', 'sixth': 6, 'eighth': 'h', 'ninth': 9}\n"
     ]
    }
   ],
   "source": [
    "a={'first':'a','second':'b','third':'c','fourth':'d','fifth':'e','sixth':'f','seventh':'g','eighth':'h'}\n",
    "print(a)\n",
    "print(type(a))\n",
    "print(a['first'])\n",
    "a['sixth']=6                 #appending the items in dictionary\n",
    "a['ninth']=9                 #adding items in dictionary\n",
    "a.update({'tenth':'10'})\n",
    "print(a)\n",
    "a.pop('seventh')           #removing items in dictionary\n",
    "print(a)\n",
    "a.popitem()                #removes the last element\n",
    "print(a)\n",
    "b=a.copy()                 #copying dictionaries\n",
    "print(b)\n",
    "b.clear()                  #removing all elemts in dictionary\n",
    "print(b)\n",
    "\n",
    "print(a.get('fourth'))\n",
    "print(a.get('alpha'))\n",
    "#print(a['alpha']) gives error right now"
   ]
  }
 ],
 "metadata": {
  "kernelspec": {
   "display_name": "Python 3",
   "language": "python",
   "name": "python3"
  },
  "language_info": {
   "codemirror_mode": {
    "name": "ipython",
    "version": 3
   },
   "file_extension": ".py",
   "mimetype": "text/x-python",
   "name": "python",
   "nbconvert_exporter": "python",
   "pygments_lexer": "ipython3",
   "version": "3.9.6"
  }
 },
 "nbformat": 4,
 "nbformat_minor": 5
}
