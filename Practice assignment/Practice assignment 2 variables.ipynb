{
 "cells": [
  {
   "cell_type": "markdown",
   "id": "express-princess",
   "metadata": {},
   "source": [
    "# variables in python\n"
   ]
  },
  {
   "cell_type": "code",
   "execution_count": 4,
   "id": "outside-arkansas",
   "metadata": {},
   "outputs": [
    {
     "name": "stdout",
     "output_type": "stream",
     "text": [
      "98.323 \n",
      "\n",
      "2 \n",
      "\n",
      "15 \t 12\n",
      "19 \t 99\n",
      "a: 2533495696240 \tb: 2533495887280\n",
      "13 \t 13\n",
      "a: 2533495696048 \tb: 2533495696048\n"
     ]
    }
   ],
   "source": [
    "#syntax:identifer=value\n",
    "a=10\n",
    "var1=98.323\n",
    "k=12\n",
    "print(var1,\"\\n\")\n",
    "var1=2\n",
    "print(var1,\"\\n\")\n",
    "alpha='tiger'\n",
    "a=15;b=12                        #multi varible assignment\n",
    "print(a,\"\\t\",b)\n",
    "a,b=19,99                        #multi variable assignment\n",
    "print(a,\"\\t\",b)\n",
    "print(\"a:\",id(a),\"\\tb:\",id(b))     #id is used find the address of variable\n",
    "a=b=13\n",
    "print(a,\"\\t\",b)                  \n",
    "print(\"a:\",id(a),\"\\tb:\",id(b))\n"
   ]
  },
  {
   "cell_type": "markdown",
   "id": "stone-conditions",
   "metadata": {},
   "source": [
    "### scope of variable"
   ]
  },
  {
   "cell_type": "code",
   "execution_count": 19,
   "id": "proprietary-leadership",
   "metadata": {},
   "outputs": [
    {
     "name": "stdout",
     "output_type": "stream",
     "text": [
      "outside function 10\n",
      "inside function: 30\n",
      "outside function 10\n",
      "ouside and before function: 9000\n",
      "inside function: 2\n",
      "ouside and after function: 2\n",
      "villan\n",
      "villan\n"
     ]
    }
   ],
   "source": [
    "a=10                                            #global a\n",
    "\n",
    "def value(a):\n",
    "    a=30                                        #local a\n",
    "    print(\"inside function:\",a)\n",
    "    return a\n",
    "print(\"outside function\",a)\n",
    "value(a)\n",
    "print(\"outside function\",a)\n",
    "\n",
    "m=9000\n",
    "def alphabet():\n",
    "    global m                                    #using keyword global to convert m into global variable\n",
    "    m=2                  \n",
    "    print(\"inside function:\",m)\n",
    "print(\"ouside and before function:\",m)\n",
    "alphabet()\n",
    "print(\"ouside and after function:\",m)\n",
    "    \n",
    "    \n",
    "k='hero'                                           #variable is gloabl here\n",
    "if k==k:\n",
    "    k='villan'                                     #variable is globa here\n",
    "    print(k)\n",
    "print(k)"
   ]
  }
 ],
 "metadata": {
  "kernelspec": {
   "display_name": "Python 3",
   "language": "python",
   "name": "python3"
  },
  "language_info": {
   "codemirror_mode": {
    "name": "ipython",
    "version": 3
   },
   "file_extension": ".py",
   "mimetype": "text/x-python",
   "name": "python",
   "nbconvert_exporter": "python",
   "pygments_lexer": "ipython3",
   "version": "3.9.6"
  }
 },
 "nbformat": 4,
 "nbformat_minor": 5
}
