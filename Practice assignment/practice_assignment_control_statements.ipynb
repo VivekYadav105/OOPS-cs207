{
  "nbformat": 4,
  "nbformat_minor": 0,
  "metadata": {
    "colab": {
      "name": "practice assignment control statements.ipynb",
      "provenance": [],
      "collapsed_sections": [],
      "authorship_tag": "ABX9TyP0FZ7mMzyAK240S2LigBY8",
      "include_colab_link": true
    },
    "kernelspec": {
      "name": "python3",
      "display_name": "Python 3"
    },
    "language_info": {
      "name": "python"
    }
  },
  "cells": [
    {
      "cell_type": "markdown",
      "metadata": {
        "id": "view-in-github",
        "colab_type": "text"
      },
      "source": [
        "<a href=\"https://colab.research.google.com/github/VivekYadav105/OOPS-cs207/blob/main/Practice%20assignment/practice_assignment_control_statements.ipynb\" target=\"_parent\"><img src=\"https://colab.research.google.com/assets/colab-badge.svg\" alt=\"Open In Colab\"/></a>"
      ]
    },
    {
      "cell_type": "markdown",
      "metadata": {
        "id": "AQiq8NPUTY4Z"
      },
      "source": [
        "# control statements"
      ]
    },
    {
      "cell_type": "markdown",
      "metadata": {
        "id": "dwEIQ9nlTzP1"
      },
      "source": [
        "## conditional statements"
      ]
    },
    {
      "cell_type": "markdown",
      "metadata": {
        "id": "SAaXBVHjVuGW"
      },
      "source": [
        "### basic if else"
      ]
    },
    {
      "cell_type": "code",
      "metadata": {
        "id": "iCwP0tSyTG53",
        "colab": {
          "base_uri": "https://localhost:8080/"
        },
        "outputId": "032b425a-de85-4b7a-8bd9-6afd2f98143c"
      },
      "source": [
        "speed=int(input(\"Enter the speed of the car:\"))\n",
        "if speed>20:\n",
        "  gear=1\n",
        "else:\n",
        "  gear=2\n",
        "print(\"speed:%d\"%speed)\n",
        "print(\"gear:%d\"%gear)"
      ],
      "execution_count": 1,
      "outputs": [
        {
          "output_type": "stream",
          "name": "stdout",
          "text": [
            "Enter the speed of the car:44\n",
            "speed:44\n",
            "gear:1\n"
          ]
        }
      ]
    },
    {
      "cell_type": "markdown",
      "metadata": {
        "id": "pvBOJmgfV1j0"
      },
      "source": [
        "### nested if else"
      ]
    },
    {
      "cell_type": "code",
      "metadata": {
        "colab": {
          "base_uri": "https://localhost:8080/"
        },
        "id": "XlvE-DNHUeGB",
        "outputId": "fa99e24e-6613-4a27-9c50-83ece538c035"
      },
      "source": [
        "speed=int(input(\"Enter the speed of the car:\"))\n",
        "if speed>20:\n",
        "  if speed<40:\n",
        "    gear=1\n",
        "  else:\n",
        "    gear=2\n",
        "  print(\"speed:%i\"%speed)\n",
        "  print(\"Gear:%i\"%gear)\n",
        "else: \n",
        "  print(\"speed is less than 20\")"
      ],
      "execution_count": 3,
      "outputs": [
        {
          "output_type": "stream",
          "name": "stdout",
          "text": [
            "Enter the speed of the car:22\n",
            "speed:22\n",
            "Gear:1\n"
          ]
        }
      ]
    },
    {
      "cell_type": "markdown",
      "metadata": {
        "id": "1tiC6MazV4qL"
      },
      "source": [
        "### compund if"
      ]
    },
    {
      "cell_type": "code",
      "metadata": {
        "colab": {
          "base_uri": "https://localhost:8080/"
        },
        "id": "gEUXiFdOU_e1",
        "outputId": "aef556bc-3ce1-4786-ecbf-9391e0be2107"
      },
      "source": [
        "speed=int(input(\"Enter the speed of the car:\"))\n",
        "if speed>20 and speed<40:\n",
        "  gear=1\n",
        "else:\n",
        "  gear=2\n",
        "print(\"speed:%d\"%speed)\n",
        "print(\"gear:%d\"%gear)"
      ],
      "execution_count": 4,
      "outputs": [
        {
          "output_type": "stream",
          "name": "stdout",
          "text": [
            "Enter the speed of the car:0\n",
            "speed:0\n",
            "gear:2\n"
          ]
        }
      ]
    },
    {
      "cell_type": "markdown",
      "metadata": {
        "id": "pSpbAgo6V9L6"
      },
      "source": [
        "## nested if else"
      ]
    },
    {
      "cell_type": "code",
      "metadata": {
        "colab": {
          "base_uri": "https://localhost:8080/"
        },
        "id": "araaSunyVNYT",
        "outputId": "f536fb6f-e59c-4ad5-f571-130d5f4f0cf6"
      },
      "source": [
        "speed=int(input(\"Enter the speed of the car:\"))\n",
        "if speed>20 and speed<40:\n",
        "  gear=1\n",
        "else:\n",
        "  if speed>40 and speed<60: \n",
        "    gear=2\n",
        "  else:\n",
        "    gear=3\n",
        "print(\"speed:%d\"%speed)\n",
        "print(\"gear:%d\"%gear)"
      ],
      "execution_count": 5,
      "outputs": [
        {
          "output_type": "stream",
          "name": "stdout",
          "text": [
            "Enter the speed of the car:47\n",
            "speed:47\n",
            "gear:2\n"
          ]
        }
      ]
    },
    {
      "cell_type": "markdown",
      "metadata": {
        "id": "B2mmS-lhWCyc"
      },
      "source": [
        "### if elif else"
      ]
    },
    {
      "cell_type": "code",
      "metadata": {
        "colab": {
          "base_uri": "https://localhost:8080/"
        },
        "id": "tP8ELexTVb0_",
        "outputId": "eca56528-ed0e-4551-e177-f8a0881a20f9"
      },
      "source": [
        "speed=int(input(\"Enter the speed of the car:\"))\n",
        "if speed>20 and speed<40:\n",
        "  gear=1\n",
        "elif speed>40 and speed<60: \n",
        "    gear=2\n",
        "elif spee>60 and speed<90:\n",
        "  gear=4\n",
        "else:\n",
        "  gear=3\n",
        "print(\"speed:%d\"%speed)\n",
        "print(\"gear:%d\"%gear)"
      ],
      "execution_count": 6,
      "outputs": [
        {
          "output_type": "stream",
          "name": "stdout",
          "text": [
            "Enter the speed of the car:59\n",
            "speed:59\n",
            "gear:2\n"
          ]
        }
      ]
    },
    {
      "cell_type": "markdown",
      "metadata": {
        "id": "5VACWCgaWGgI"
      },
      "source": [
        "### iterative statements"
      ]
    },
    {
      "cell_type": "markdown",
      "metadata": {
        "id": "C5Id2xSIWldU"
      },
      "source": [
        "### for and while"
      ]
    },
    {
      "cell_type": "code",
      "metadata": {
        "colab": {
          "base_uri": "https://localhost:8080/"
        },
        "id": "izdSpjIFVhaA",
        "outputId": "f8216527-e104-4574-90c3-08a3fcae82fa"
      },
      "source": [
        "i=5\n",
        "while i>0:\n",
        "  print('hello')\n",
        "  i-=1\n",
        "\n",
        "for i in range(10):\n",
        "  print(\"hello world\")"
      ],
      "execution_count": 9,
      "outputs": [
        {
          "output_type": "stream",
          "name": "stdout",
          "text": [
            "hello\n",
            "hello\n",
            "hello\n",
            "hello\n",
            "hello\n",
            "hello world\n",
            "hello world\n",
            "hello world\n",
            "hello world\n",
            "hello world\n",
            "hello world\n",
            "hello world\n",
            "hello world\n",
            "hello world\n",
            "hello world\n"
          ]
        }
      ]
    },
    {
      "cell_type": "markdown",
      "metadata": {
        "id": "i6gbixMaWp1j"
      },
      "source": [
        "### nested for and while"
      ]
    },
    {
      "cell_type": "code",
      "metadata": {
        "colab": {
          "base_uri": "https://localhost:8080/"
        },
        "id": "M6-VCakhWsMg",
        "outputId": "2227a638-6fda-4a9f-e5f8-d36bd904d611"
      },
      "source": [
        "for i in range(10):\n",
        "  for j in range(10):\n",
        "    print(\"%i X %i = %i\"%(i,j,i*j))\n",
        "  print(\"\\n\")\n",
        "print()\n",
        "i,j=0,0\n",
        "while i<10:\n",
        "  while j<10:\n",
        "    print(i,j)\n",
        "    j+=1\n",
        "  i+=1\n",
        "print()\n",
        "i,j=0,0\n",
        "while i<20:\n",
        "  while j<20:\n",
        "    print(i,j)\n",
        "    i+=1;j+=1 \n",
        "print()\n",
        "li=[\"apple\",\"banana\",\"cherry\",\"dragon fruit\"]\n",
        "print()\n",
        "for i in range(10):\n",
        "  while j<2:\n",
        "    print(\"hi\",end=\" \")\n",
        "for index,value in enumerate(li):\n",
        "  print(index,value,end=\";\")\n"
      ],
      "execution_count": 17,
      "outputs": [
        {
          "output_type": "stream",
          "name": "stdout",
          "text": [
            "0 X 0 = 0\n",
            "0 X 1 = 0\n",
            "0 X 2 = 0\n",
            "0 X 3 = 0\n",
            "0 X 4 = 0\n",
            "0 X 5 = 0\n",
            "0 X 6 = 0\n",
            "0 X 7 = 0\n",
            "0 X 8 = 0\n",
            "0 X 9 = 0\n",
            "\n",
            "\n",
            "1 X 0 = 0\n",
            "1 X 1 = 1\n",
            "1 X 2 = 2\n",
            "1 X 3 = 3\n",
            "1 X 4 = 4\n",
            "1 X 5 = 5\n",
            "1 X 6 = 6\n",
            "1 X 7 = 7\n",
            "1 X 8 = 8\n",
            "1 X 9 = 9\n",
            "\n",
            "\n",
            "2 X 0 = 0\n",
            "2 X 1 = 2\n",
            "2 X 2 = 4\n",
            "2 X 3 = 6\n",
            "2 X 4 = 8\n",
            "2 X 5 = 10\n",
            "2 X 6 = 12\n",
            "2 X 7 = 14\n",
            "2 X 8 = 16\n",
            "2 X 9 = 18\n",
            "\n",
            "\n",
            "3 X 0 = 0\n",
            "3 X 1 = 3\n",
            "3 X 2 = 6\n",
            "3 X 3 = 9\n",
            "3 X 4 = 12\n",
            "3 X 5 = 15\n",
            "3 X 6 = 18\n",
            "3 X 7 = 21\n",
            "3 X 8 = 24\n",
            "3 X 9 = 27\n",
            "\n",
            "\n",
            "4 X 0 = 0\n",
            "4 X 1 = 4\n",
            "4 X 2 = 8\n",
            "4 X 3 = 12\n",
            "4 X 4 = 16\n",
            "4 X 5 = 20\n",
            "4 X 6 = 24\n",
            "4 X 7 = 28\n",
            "4 X 8 = 32\n",
            "4 X 9 = 36\n",
            "\n",
            "\n",
            "5 X 0 = 0\n",
            "5 X 1 = 5\n",
            "5 X 2 = 10\n",
            "5 X 3 = 15\n",
            "5 X 4 = 20\n",
            "5 X 5 = 25\n",
            "5 X 6 = 30\n",
            "5 X 7 = 35\n",
            "5 X 8 = 40\n",
            "5 X 9 = 45\n",
            "\n",
            "\n",
            "6 X 0 = 0\n",
            "6 X 1 = 6\n",
            "6 X 2 = 12\n",
            "6 X 3 = 18\n",
            "6 X 4 = 24\n",
            "6 X 5 = 30\n",
            "6 X 6 = 36\n",
            "6 X 7 = 42\n",
            "6 X 8 = 48\n",
            "6 X 9 = 54\n",
            "\n",
            "\n",
            "7 X 0 = 0\n",
            "7 X 1 = 7\n",
            "7 X 2 = 14\n",
            "7 X 3 = 21\n",
            "7 X 4 = 28\n",
            "7 X 5 = 35\n",
            "7 X 6 = 42\n",
            "7 X 7 = 49\n",
            "7 X 8 = 56\n",
            "7 X 9 = 63\n",
            "\n",
            "\n",
            "8 X 0 = 0\n",
            "8 X 1 = 8\n",
            "8 X 2 = 16\n",
            "8 X 3 = 24\n",
            "8 X 4 = 32\n",
            "8 X 5 = 40\n",
            "8 X 6 = 48\n",
            "8 X 7 = 56\n",
            "8 X 8 = 64\n",
            "8 X 9 = 72\n",
            "\n",
            "\n",
            "9 X 0 = 0\n",
            "9 X 1 = 9\n",
            "9 X 2 = 18\n",
            "9 X 3 = 27\n",
            "9 X 4 = 36\n",
            "9 X 5 = 45\n",
            "9 X 6 = 54\n",
            "9 X 7 = 63\n",
            "9 X 8 = 72\n",
            "9 X 9 = 81\n",
            "\n",
            "\n",
            "\n",
            "0 0\n",
            "0 1\n",
            "0 2\n",
            "0 3\n",
            "0 4\n",
            "0 5\n",
            "0 6\n",
            "0 7\n",
            "0 8\n",
            "0 9\n",
            "\n",
            "0 0\n",
            "1 1\n",
            "2 2\n",
            "3 3\n",
            "4 4\n",
            "5 5\n",
            "6 6\n",
            "7 7\n",
            "8 8\n",
            "9 9\n",
            "10 10\n",
            "11 11\n",
            "12 12\n",
            "13 13\n",
            "14 14\n",
            "15 15\n",
            "16 16\n",
            "17 17\n",
            "18 18\n",
            "19 19\n",
            "\n",
            "\n",
            "0 apple;1 banana;2 cherry;3 dragon fruit;"
          ]
        }
      ]
    }
  ]
}