{
  "nbformat": 4,
  "nbformat_minor": 0,
  "metadata": {
    "colab": {
      "name": "Practice assignment opperators.ipynb",
      "provenance": [],
      "collapsed_sections": [],
      "authorship_tag": "ABX9TyPaZEkTKATWpKvQ6aKrCskI",
      "include_colab_link": true
    },
    "kernelspec": {
      "name": "python3",
      "display_name": "Python 3"
    },
    "language_info": {
      "name": "python"
    }
  },
  "cells": [
    {
      "cell_type": "markdown",
      "metadata": {
        "id": "view-in-github",
        "colab_type": "text"
      },
      "source": [
        "<a href=\"https://colab.research.google.com/github/VivekYadav105/OOPS-cs207/blob/branch-1/Practice%20assignment/Practice_assignment_opperators.ipynb\" target=\"_parent\"><img src=\"https://colab.research.google.com/assets/colab-badge.svg\" alt=\"Open In Colab\"/></a>"
      ]
    },
    {
      "cell_type": "markdown",
      "metadata": {
        "id": "uLGcmty-syj5"
      },
      "source": [
        "# operators"
      ]
    },
    {
      "cell_type": "markdown",
      "metadata": {
        "id": "6QFQmg6ns5en"
      },
      "source": [
        "## Arithmetic Operators"
      ]
    },
    {
      "cell_type": "code",
      "metadata": {
        "colab": {
          "base_uri": "https://localhost:8080/"
        },
        "id": "xB6ZoEnAs4rC",
        "outputId": "935ce64d-0582-4651-a37a-822015b36140"
      },
      "source": [
        "a=30;b=40\n",
        "print(\"a+b:\",a+b)\n",
        "print(\"a*b\",a*b)\n",
        "print(\"a-b\",a-b)\n",
        "print(\"a/b\",a/b)\n",
        "print(\"a//b\",a//b)\n",
        "print(\"a**b\",a**b)\n",
        "print(\"a%b\",a%b)"
      ],
      "execution_count": null,
      "outputs": [
        {
          "output_type": "stream",
          "text": [
            "a+b: 70\n",
            "a*b 1200\n",
            "a-b -10\n",
            "a/b 0.75\n",
            "a//b 0\n",
            "a**b 121576654590569288010000000000000000000000000000000000000000\n",
            "a%b 30\n"
          ],
          "name": "stdout"
        }
      ]
    },
    {
      "cell_type": "markdown",
      "metadata": {
        "id": "QTGe1IdYu3NJ"
      },
      "source": [
        "## Relational or comparison operators\n"
      ]
    },
    {
      "cell_type": "code",
      "metadata": {
        "colab": {
          "base_uri": "https://localhost:8080/"
        },
        "id": "mYakUKXDvFde",
        "outputId": "c54795c0-f1b1-405d-aaf7-daaa29347370"
      },
      "source": [
        "a,b,c=5,7,8\n",
        "print(\"a==b\",a==b)\n",
        "print(\"a==c\",a==c)\n",
        "print(\"a>b\",a>b)\n",
        "print(\"a<b\",a<b)\n",
        "print(\"a!=b\",a!=b)\n",
        "print(\"a!=c\",a!=c)\n",
        "print(\"a>=c\",a>=c)\n",
        "print(\"a<=c\",a<=b)"
      ],
      "execution_count": null,
      "outputs": [
        {
          "output_type": "stream",
          "text": [
            "a==b False\n",
            "a==c False\n",
            "a>b False\n",
            "a<b True\n",
            "a!=b True\n",
            "a!=c True\n",
            "a>=c False\n",
            "a<=c True\n"
          ],
          "name": "stdout"
        }
      ]
    },
    {
      "cell_type": "markdown",
      "metadata": {
        "id": "2uc0u14mv2f4"
      },
      "source": [
        "## Assignment opperations"
      ]
    },
    {
      "cell_type": "code",
      "metadata": {
        "colab": {
          "base_uri": "https://localhost:8080/"
        },
        "id": "L_jyJzmSwBMA",
        "outputId": "e5966bb7-2b1a-4df1-d70e-c98a197c93e6"
      },
      "source": [
        "a=10\n",
        "print(\"a:\",a)\n",
        "\n",
        "a+=1\n",
        "print(\"a+=\",a)\n",
        "a=10\n",
        "a=a+1\n",
        "print(\"a=a+1\",a)\n",
        "\n",
        "a=10\n",
        "a+=4\n",
        "print(\"a+=4:\",a)\n",
        "a=10\n",
        "a=a+4\n",
        "print(\"a=a+4:\",a,\"\\n\")\n",
        "\n",
        "b=25\n",
        "print(\"b:\",b)\n",
        "b-=1\n",
        "print(\"b-=:\",b)\n",
        "b=25\n",
        "b=b-1\n",
        "print(\"b=b-1\",b)\n",
        "b-=5\n",
        "print(\"b-=5\",b,\"\\n\")\n",
        "\n",
        "c=36\n",
        "print(\"c:\",c)\n",
        "c*=1\n",
        "print(\"c*=\",c)\n",
        "c=36\n",
        "c=c*1\n",
        "print(\"c=c*1\",c)\n",
        "c*=4\n",
        "print(\"c*=4\",c,\"\\n\")\n",
        "\n",
        "d=44\n",
        "print(\"d:\",d)\n",
        "d/=2\n",
        "print(\"d/=2\",d)\n",
        "d=44\n",
        "d=d/2\n",
        "print(\"d=d/2\",d)\n",
        "\n",
        "e=50\n",
        "print(\"e:\",e)\n",
        "e%=3\n",
        "print(\"e%3:\",e)\n",
        "e=50\n",
        "e=e%3\n",
        "print(\"e=e%3:\",e,\"\\n\")\n",
        "\n",
        "f=78\n",
        "print(\"f:\",f)\n",
        "f//=5\n",
        "print(\"f//5:\",f)\n",
        "f=78\n",
        "f=f//5\n",
        "print(\"f=f//5\\n\",f,\"\\n\")\n",
        "\n",
        "g=13\n",
        "print(\"g:\",g)\n",
        "g**=2\n",
        "print(\"g**=2\",g)\n",
        "g=13\n",
        "g=g**2\n",
        "print(\"g=g*2\",g)\n",
        "\n"
      ],
      "execution_count": null,
      "outputs": [
        {
          "output_type": "stream",
          "text": [
            "a: 10\n",
            "a+= 11\n",
            "a=a+1 11\n",
            "a+=4: 14\n",
            "a=a+4: 14 \n",
            "\n",
            "b: 25\n",
            "b-=: 24\n",
            "b=b-1 24\n",
            "b-=5 19 \n",
            "\n",
            "c: 36\n",
            "c*= 36\n",
            "c=c*1 36\n",
            "c*=4 144 \n",
            "\n",
            "d: 44\n",
            "d/=2 22.0\n",
            "d=d/2 22.0\n",
            "e: 50\n",
            "e%3: 2\n",
            "e=e%3: 2 \n",
            "\n",
            "f: 78\n",
            "f//5: 15\n",
            "f=f//5\n",
            " 15 \n",
            "\n",
            "g: 13\n",
            "g**=2 169\n",
            "g=g*2 169\n"
          ],
          "name": "stdout"
        }
      ]
    },
    {
      "cell_type": "markdown",
      "metadata": {
        "id": "abY2Jv860l-G"
      },
      "source": [
        "## Logical Opperators"
      ]
    },
    {
      "cell_type": "code",
      "metadata": {
        "colab": {
          "base_uri": "https://localhost:8080/"
        },
        "id": "BpVWBmZb0tAo",
        "outputId": "e5733e43-72ca-4eea-eaeb-3ae15b0117f1"
      },
      "source": [
        "a=1\n",
        "b=0\n",
        "c=0\n",
        "d=1\n",
        "print(\"a and b:\",a and b)\n",
        "print(\"a and c:\",a and c)\n",
        "print(\"a and d:\",a and d,\"\\n\")\n",
        "print(\"a or b\",a or b)\n",
        "print(\"b or c\",b or c,\"\\n\")\n",
        "print(\"not a:\",not a)\n",
        "print(\"not b\",not b)"
      ],
      "execution_count": null,
      "outputs": [
        {
          "output_type": "stream",
          "text": [
            "a and b: 0\n",
            "a and c: 0\n",
            "a and d: 1 \n",
            "\n",
            "a or b 1\n",
            "b or c 0 \n",
            "\n",
            "not a: False\n",
            "not b True\n"
          ],
          "name": "stdout"
        }
      ]
    },
    {
      "cell_type": "markdown",
      "metadata": {
        "id": "cZVpggnL27Nf"
      },
      "source": [
        "## membership operators"
      ]
    },
    {
      "cell_type": "code",
      "metadata": {
        "colab": {
          "base_uri": "https://localhost:8080/"
        },
        "id": "A5ae4CkP3y_c",
        "outputId": "e292b296-c9e4-436b-bd45-0c55958388de"
      },
      "source": [
        "a=\"hello world\"\n",
        "print('l' in a)\n",
        "print(\"llo\" in a)\n",
        "print(\"k\" in a)\n",
        "print(\"h\" not in a)\n",
        "print(\"hel\" not in a)\n",
        "print(\"k\" not in a)"
      ],
      "execution_count": null,
      "outputs": [
        {
          "output_type": "stream",
          "text": [
            "True\n",
            "True\n",
            "False\n",
            "False\n",
            "False\n",
            "True\n"
          ],
          "name": "stdout"
        }
      ]
    },
    {
      "cell_type": "markdown",
      "metadata": {
        "id": "Xseyq3Oc4PEu"
      },
      "source": [
        "## identity operators"
      ]
    },
    {
      "cell_type": "code",
      "metadata": {
        "colab": {
          "base_uri": "https://localhost:8080/"
        },
        "id": "G-o5H2bd4SbK",
        "outputId": "e642a4a6-b010-4359-a630-1f286288a204"
      },
      "source": [
        "a=30\n",
        "b=30\n",
        "c=10\n",
        "print(\"a is b\",a is b)\n",
        "print(\" a is not b\",a is not b)\n",
        "print(\"a is c\",a is c)\n",
        "print(\"a is not c\",a is not c)"
      ],
      "execution_count": null,
      "outputs": [
        {
          "output_type": "stream",
          "text": [
            "a is b True\n",
            " a is not b False\n",
            "a is c False\n",
            "a is not c True\n"
          ],
          "name": "stdout"
        }
      ]
    },
    {
      "cell_type": "markdown",
      "metadata": {
        "id": "OvB5bbwY4m3n"
      },
      "source": [
        "## bitwise operators"
      ]
    },
    {
      "cell_type": "code",
      "metadata": {
        "colab": {
          "base_uri": "https://localhost:8080/"
        },
        "id": "lJSejyPZ4tKx",
        "outputId": "44a4d03a-74a8-48e2-d1cb-db145ba2dba5"
      },
      "source": [
        "a=30\n",
        "b=44\n",
        "print(\"a:  \",format(a,'b'),\",\",a,\" b:\",format(b,'b'),\",\",b)\n",
        "print(\"a&b:\",format(a&b,'b'),\",\",a&b)\n",
        "print(\"a|b \",format(a|b,'b'),\",\",a|b)\n",
        "print(\"a^b \",format(a^b,'b'),\",\",a^b)\n",
        "print(\"~a  \",format(~a,'b'),\",\",~a)\n",
        "print(\"~b  \",format(~b,'b'),\",\",~b)\n",
        "print(\"a>>2\",format(a>>2,'b'),\",\",a>>2)\n",
        "print(\"a<<2\",format(a<<2,'b'),\",\",a<<2)\n",
        "print(\"b>>2\",format(b>>2,'b'),\",\",a>>2)\n",
        "print(\"b<<2\",format(b<<2,'b'),\",\",a<<2)"
      ],
      "execution_count": null,
      "outputs": [
        {
          "output_type": "stream",
          "text": [
            "a:   11110 , 30  b: 101100 , 44\n",
            "a&b: 1100 , 12\n",
            "a|b  111110 , 62\n",
            "a^b  110010 , 50\n",
            "~a   -11111 , -31\n",
            "~b   -101101 , -45\n",
            "a>>2 111 , 7\n",
            "a<<2 1111000 , 120\n",
            "b>>2 1011 , 7\n",
            "b<<2 10110000 , 120\n"
          ],
          "name": "stdout"
        }
      ]
    },
    {
      "cell_type": "markdown",
      "metadata": {
        "id": "ifVxojMK6kYG"
      },
      "source": [
        "# operators priority\n",
        "\n"
      ]
    },
    {
      "cell_type": "code",
      "metadata": {
        "colab": {
          "base_uri": "https://localhost:8080/"
        },
        "id": "nBNoLpxX6rAG",
        "outputId": "d575c1c6-ac9f-43d4-f706-07d310d38768"
      },
      "source": [
        "print(4**2*4/3+4-2%4)  # follows bodmas rule\n"
      ],
      "execution_count": null,
      "outputs": [
        {
          "output_type": "stream",
          "text": [
            "23.333333333333332\n"
          ],
          "name": "stdout"
        }
      ]
    }
  ]
}