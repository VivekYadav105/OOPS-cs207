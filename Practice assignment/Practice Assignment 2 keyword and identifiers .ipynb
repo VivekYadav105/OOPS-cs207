{
 "cells": [
  {
   "cell_type": "markdown",
   "id": "announced-transition",
   "metadata": {},
   "source": [
    "# comment in python"
   ]
  },
  {
   "cell_type": "code",
   "execution_count": null,
   "id": "threatened-approach",
   "metadata": {},
   "outputs": [],
   "source": [
    "#this is a single line comment\n",
    "'''this is a multi line comment'''"
   ]
  },
  {
   "cell_type": "markdown",
   "id": "differential-alberta",
   "metadata": {},
   "source": [
    "# variable assignment and types\n"
   ]
  },
  {
   "cell_type": "code",
   "execution_count": 25,
   "id": "affiliated-interpretation",
   "metadata": {},
   "outputs": [
    {
     "name": "stdout",
     "output_type": "stream",
     "text": [
      "10 \n",
      "\n",
      "<class 'int'>\n",
      "<class 'float'>\n",
      "<class 'str'>\n",
      "<class 'bool'>\n",
      "<class 'list'>\n",
      "<class 'set'>\n",
      "b=16.33,c=alpha\n",
      "True\n",
      "<class 'bool'>\n",
      "e=33,f=97\n"
     ]
    }
   ],
   "source": [
    "a=10\n",
    "print(a,\"\\n\")\n",
    "print(type(a))\n",
    "b,c=16.33,'alpha'\n",
    "d=True\n",
    "e=[1,2,3]\n",
    "f={33,44}\n",
    "print(type(b))\n",
    "print(type(c))\n",
    "print(type(d))\n",
    "print(type(e))\n",
    "print(type(f))\n",
    "e=33;f=97\n",
    "print(f'b={b},c={c}')\n",
    "print(d)\n",
    "print(type(d))\n",
    "print(f'e={e},f={f}')"
   ]
  },
  {
   "cell_type": "markdown",
   "id": "aging-input",
   "metadata": {},
   "source": [
    "# Identifiers in python\n"
   ]
  },
  {
   "cell_type": "code",
   "execution_count": 18,
   "id": "vietnamese-portugal",
   "metadata": {},
   "outputs": [
    {
     "name": "stdout",
     "output_type": "stream",
     "text": [
      "var1=33\t var_1=96\t v1ar=39\t Alpha=king\t alpha=queen\t Alpha=king\t BETA=sword\t beta=lamda\t\n"
     ]
    }
   ],
   "source": [
    "#identifier=value is the form of variable assignment in python\n",
    "var1=33\n",
    "var_1=96                         #incase of special symbol only underscore is allowed\n",
    "v1ar=39                           #identifier cannot begin with nuber\n",
    "Alpha='king'\n",
    "alpha='queen'                        #identifers are case sensitive\n",
    "BETA='sword'\n",
    "beta='lamda'\n",
    "print(f'var1={var1}\\t var_1={var_1}\\t v1ar={v1ar}\\t Alpha={Alpha}\\t alpha={alpha}\\t Alpha={Alpha}\\t BETA={BETA}\\t beta={beta}\\t')"
   ]
  },
  {
   "cell_type": "markdown",
   "id": "novel-still",
   "metadata": {},
   "source": [
    "# keywords in python"
   ]
  },
  {
   "cell_type": "code",
   "execution_count": 21,
   "id": "written-release",
   "metadata": {},
   "outputs": [
    {
     "name": "stdout",
     "output_type": "stream",
     "text": [
      "True\n",
      "False\n"
     ]
    }
   ],
   "source": [
    "import keyword\n",
    "#keywords have predefined or reserve words which cannot be used as identifiers \n",
    "print(keyword.iskeyword(\"while\")) #is keyword return True if given string is keyword\n",
    "print(keyword.iskeyword(\"dracula\"))#is keyword return false if given string is keyword\n",
    "dracula=19                            #doesn't give error"
   ]
  },
  {
   "cell_type": "code",
   "execution_count": 19,
   "id": "neutral-border",
   "metadata": {},
   "outputs": [
    {
     "ename": "SyntaxError",
     "evalue": "invalid syntax (<ipython-input-19-20130116e387>, line 1)",
     "output_type": "error",
     "traceback": [
      "\u001b[1;36m  File \u001b[1;32m\"<ipython-input-19-20130116e387>\"\u001b[1;36m, line \u001b[1;32m1\u001b[0m\n\u001b[1;33m    while=16\u001b[0m\n\u001b[1;37m         ^\u001b[0m\n\u001b[1;31mSyntaxError\u001b[0m\u001b[1;31m:\u001b[0m invalid syntax\n"
     ]
    }
   ],
   "source": [
    "while=16                       "
   ]
  },
  {
   "cell_type": "markdown",
   "id": "official-orientation",
   "metadata": {},
   "source": [
    "# statements in python"
   ]
  },
  {
   "cell_type": "code",
   "execution_count": 6,
   "id": "prospective-stopping",
   "metadata": {},
   "outputs": [
    {
     "name": "stdout",
     "output_type": "stream",
     "text": [
      "['nano', 'merceds', 'mercede benz']\n",
      "120300\n"
     ]
    }
   ],
   "source": [
    "variable=20   #is a assignment statement\n",
    "variable2=(300+300         #this a multi line assignment\n",
    "            *400)\n",
    "vehicals=[\"nano\",\"merceds\",\n",
    "         \"mercede benz\"]\n",
    "print(vehicals)\n",
    "print(variable2)"
   ]
  },
  {
   "cell_type": "markdown",
   "id": "central-gambling",
   "metadata": {},
   "source": [
    "# python indenation"
   ]
  },
  {
   "cell_type": "code",
   "execution_count": 28,
   "id": "sacred-brooks",
   "metadata": {},
   "outputs": [
    {
     "name": "stdout",
     "output_type": "stream",
     "text": [
      "0\n",
      "1\n",
      "2\n",
      "3\n",
      "4\n",
      "hello\n",
      "hello how are you\n",
      "this is python\n",
      "indentation\n",
      "indentation 2\n",
      "done\n",
      "4\n",
      "hello\n",
      "goodbye\n"
     ]
    }
   ],
   "source": [
    "for i in range(0,5):\n",
    "    print(i)\n",
    "k=1\n",
    "if k==1:\n",
    "    print(\"hello\")\n",
    "if k==1:\n",
    "        print(\"hello how are you\")\n",
    "        print(\"this is python\")\n",
    "if k==1:\n",
    "    print(\"indentation\")\n",
    "    k=2\n",
    "    if k==2:\n",
    "        print(\"indentation 2\")\n",
    "        k=3\n",
    "        if k==3:\n",
    "            print(\"done\")\n",
    "    else:\n",
    "        print(\"indentation 3\")\n",
    "if k==3:\n",
    "        k=4\n",
    "        if k==4:\n",
    "            print(k)\n",
    "if k==4:\n",
    " print(\"hello\")\n",
    " k=5\n",
    "if k==10:\n",
    "   print(\"bye\")\n",
    "else:\n",
    "   print(\"goodbye\")\n",
    "\n",
    "        \n",
    "    "
   ]
  },
  {
   "cell_type": "markdown",
   "id": "ideal-fever",
   "metadata": {},
   "source": [
    "# comments in document"
   ]
  },
  {
   "cell_type": "code",
   "execution_count": 24,
   "id": "powerful-hampshire",
   "metadata": {
    "scrolled": true
   },
   "outputs": [
    {
     "name": "stdout",
     "output_type": "stream",
     "text": [
      "mul(): None\n",
      "div(): this function divides \n",
      "        a with b(a/b)\n",
      "sub(): None\n",
      "add(): sum(a,b)=a+b\n"
     ]
    }
   ],
   "source": [
    "def mul(a,b):\n",
    "    return a*b\n",
    "def div(a,b):\n",
    "    '''this function divides \n",
    "        a with b(a/b)'''\n",
    "    return a/b\n",
    "def sub(a,b):\n",
    "    #this function return the subrated value\n",
    "    return a-b\n",
    "def add(a,b):\n",
    "    #this function return sum of a and b\n",
    "    '''sum(a,b)=a+b'''\n",
    "    return a+b\n",
    "print(\"mul():\",mul.__doc__)\n",
    "print(\"div():\",div.__doc__)\n",
    "print(\"sub():\",sub.__doc__)\n",
    "print(\"add():\",add.__doc__)"
   ]
  },
  {
   "cell_type": "code",
   "execution_count": null,
   "id": "isolated-player",
   "metadata": {},
   "outputs": [],
   "source": []
  }
 ],
 "metadata": {
  "kernelspec": {
   "display_name": "Python 3",
   "language": "python",
   "name": "python3"
  },
  "language_info": {
   "codemirror_mode": {
    "name": "ipython",
    "version": 3
   },
   "file_extension": ".py",
   "mimetype": "text/x-python",
   "name": "python",
   "nbconvert_exporter": "python",
   "pygments_lexer": "ipython3",
   "version": "3.9.6"
  }
 },
 "nbformat": 4,
 "nbformat_minor": 5
}
