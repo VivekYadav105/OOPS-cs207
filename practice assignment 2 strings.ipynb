{
 "cells": [
  {
   "cell_type": "markdown",
   "id": "interpreted-murray",
   "metadata": {},
   "source": [
    "# strings in python"
   ]
  },
  {
   "cell_type": "code",
   "execution_count": 1,
   "id": "cloudy-thomson",
   "metadata": {},
   "outputs": [
    {
     "name": "stdout",
     "output_type": "stream",
     "text": [
      "<class 'str'>\n"
     ]
    }
   ],
   "source": [
    "a='hello world'\n",
    "print(type(a))"
   ]
  },
  {
   "cell_type": "markdown",
   "id": "earlier-video",
   "metadata": {},
   "source": [
    "### acessing elements of string "
   ]
  },
  {
   "cell_type": "code",
   "execution_count": 4,
   "id": "persistent-malaysia",
   "metadata": {},
   "outputs": [
    {
     "name": "stdout",
     "output_type": "stream",
     "text": [
      "hello world\n",
      "h\n",
      "d\n",
      "o\n"
     ]
    }
   ],
   "source": [
    "a='hello world'\n",
    "print(a)\n",
    "print(a[0])\n",
    "print(a[-1])\n",
    "print(a[7])\n",
    "#print(a[100])      returns error\n"
   ]
  },
  {
   "cell_type": "markdown",
   "id": "twelve-annotation",
   "metadata": {},
   "source": [
    "### slicing of strings and reversing string\n"
   ]
  },
  {
   "cell_type": "code",
   "execution_count": 28,
   "id": "obvious-daily",
   "metadata": {},
   "outputs": [
    {
     "name": "stdout",
     "output_type": "stream",
     "text": [
      "nero is not zero because he is hero\n",
      "nero is not zero because he is hero\n",
      "nero is not zero because he is h\n",
      "nero i\n",
      "is her\n",
      "nr sntzr eas ei eo\n",
      "nr sntzr eas ei\n",
      "nosozoeu  \n",
      "rin rbaeese\n",
      "oreh si eh esuaceb orez ton si oren\n",
      "oreh si eh esuaceb orez ton\n"
     ]
    }
   ],
   "source": [
    "a=\"nero is not zero because he is hero\"   #total 35 characters in string\n",
    "print(a)\n",
    "print(a[:])\n",
    "print(a[0:32])\n",
    "print(a[0:6])\n",
    "print(a[-7:-1])                           #negative indexing\n",
    "print(a[::2])                             #step size is 1 by default but we specified it 2\n",
    "print(a[0:30:2])\n",
    "print(a[0:30:3])\n",
    "print(a[-33:-2:3])    \n",
    "print(a[::-1])                                 #reversing string\n",
    "print(a[-1:7:-1])"
   ]
  },
  {
   "cell_type": "markdown",
   "id": "curious-swing",
   "metadata": {},
   "source": [
    "### string concatination"
   ]
  },
  {
   "cell_type": "code",
   "execution_count": 4,
   "id": "technological-shaft",
   "metadata": {},
   "outputs": [
    {
     "name": "stdout",
     "output_type": "stream",
     "text": [
      "k= \n",
      "vivekyadav\n",
      "vivek yadav\n",
      "vivek yadav.P\n"
     ]
    }
   ],
   "source": [
    "fname=\"vivek\"\n",
    "lname=\"yadav\"\n",
    "k=''\n",
    "print(\"k=\",k)\n",
    "k=fname+lname\n",
    "print(k)\n",
    "k=fname+' '+lname\n",
    "print(k)\n",
    "k=k+\".P\"\n",
    "print(k)"
   ]
  },
  {
   "cell_type": "markdown",
   "id": "severe-treasure",
   "metadata": {},
   "source": [
    "## important string funtions"
   ]
  },
  {
   "cell_type": "code",
   "execution_count": 24,
   "id": "attractive-clone",
   "metadata": {},
   "outputs": [
    {
     "name": "stdout",
     "output_type": "stream",
     "text": [
      "s=    this is cs207 object oriented programing.this is the course helpful for game designing   \n",
      "s.upper()=    THIS IS CS207 OBJECT ORIENTED PROGRAMING.THIS IS THE COURSE HELPFUL FOR GAME DESIGNING   \n",
      "s.lower()=    this is cs207 object oriented programing.this is the course helpful for game designing   \n",
      "s.capitalize()=    this is cs207 object oriented programing.this is the course helpful for game designing   \n",
      "s.count(i)= 8\n",
      "s.count(i)= 15\n",
      "s.replace(i)=    that is cs207 object oriented programing.that is the course helpful for game designing   \n",
      "['this', 'is', 'cs207', 'object', 'oriented', 'programing.this', 'is', 'the', 'course', 'helpful', 'for', 'game', 'designing']\n",
      "['   th', 's ', 's cs207 object or', 'ented program', 'ng.th', 's ', 's the course helpful for game des', 'gn', 'ng   ']\n",
      "this is cs207 object oriented programing.this is the course helpful for game designing\n",
      "5\n"
     ]
    }
   ],
   "source": [
    "s=\"   this is cs207 object oriented programing.this is the course helpful for game designing   \"\n",
    "print(\"s=\",s)\n",
    "#upper function\n",
    "k=s.upper()\n",
    "print(\"s.upper()=\",k)\n",
    "#lower\n",
    "k=s.lower()\n",
    "print(\"s.lower()=\",k)\n",
    "#capitalize\n",
    "k=s.capitalize()\n",
    "print(\"s.capitalize()=\",k)\n",
    "#count\n",
    "k=s.count('i')                 #returns the number of substrings in main string\n",
    "print(\"s.count(i)=\",k)\n",
    "#index()\n",
    "k=s.index('7')\n",
    "print(\"s.count(i)=\",k)\n",
    "#replace\n",
    "k=s.replace('this','that')\n",
    "print(\"s.replace(i)=\",k)\n",
    "#split()\n",
    "k=s.split() #uses whitespace as seperator to create elemtns in list\n",
    "print(k)\n",
    "k=s.split('i') #uses i as seprator\n",
    "print(k)\n",
    "#strip()\n",
    "k=s.strip()     #strips the space at begging\n",
    "print(k)\n",
    "#find()          \n",
    "print(s.find('i')) #find returns the index of first i"
   ]
  },
  {
   "cell_type": "markdown",
   "id": "another-earth",
   "metadata": {},
   "source": [
    " "
   ]
  }
 ],
 "metadata": {
  "kernelspec": {
   "display_name": "Python 3",
   "language": "python",
   "name": "python3"
  },
  "language_info": {
   "codemirror_mode": {
    "name": "ipython",
    "version": 3
   },
   "file_extension": ".py",
   "mimetype": "text/x-python",
   "name": "python",
   "nbconvert_exporter": "python",
   "pygments_lexer": "ipython3",
   "version": "3.9.6"
  }
 },
 "nbformat": 4,
 "nbformat_minor": 5
}
