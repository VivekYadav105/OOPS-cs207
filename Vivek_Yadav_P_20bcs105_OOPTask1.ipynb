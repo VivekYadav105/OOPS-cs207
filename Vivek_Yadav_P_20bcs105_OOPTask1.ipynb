{
  "nbformat": 4,
  "nbformat_minor": 0,
  "metadata": {
    "colab": {
      "name": "Vivek Yadav.P_20bcs105_OOPTask1.ipynb",
      "provenance": [],
      "collapsed_sections": [],
      "authorship_tag": "ABX9TyN6w7IgNYx9GEM2MeUKG6d3",
      "include_colab_link": true
    },
    "kernelspec": {
      "name": "python3",
      "display_name": "Python 3"
    },
    "language_info": {
      "name": "python"
    }
  },
  "cells": [
    {
      "cell_type": "markdown",
      "metadata": {
        "id": "view-in-github",
        "colab_type": "text"
      },
      "source": [
        "<a href=\"https://colab.research.google.com/github/VivekYadav105/OOPS-cs207/blob/main/Vivek_Yadav_P_20bcs105_OOPTask1.ipynb\" target=\"_parent\"><img src=\"https://colab.research.google.com/assets/colab-badge.svg\" alt=\"Open In Colab\"/></a>"
      ]
    },
    {
      "cell_type": "code",
      "metadata": {
        "colab": {
          "base_uri": "https://localhost:8080/"
        },
        "id": "20VLSw6HSPAL",
        "outputId": "c44902cc-1c24-452f-93d3-54f34bee70ab"
      },
      "source": [
        "def leapyear(year):\n",
        "  if year%400==0:\n",
        "    return True\n",
        "  elif year%100!=0 and year%4==0:\n",
        "    return True\n",
        "  else:\n",
        "    return False\n",
        "\n",
        "k=5\n",
        "for i in range(k):\n",
        "  year=int(input(\"Enter the year to check:\"))\n",
        "  if leapyear(year):\n",
        "    print(f'Given Year {year} is a Leap year')\n",
        "  else:\n",
        "    print(\"Given year is not leap year.\")\n",
        "    "
      ],
      "execution_count": 6,
      "outputs": [
        {
          "output_type": "stream",
          "name": "stdout",
          "text": [
            "Enter the year to check:1972\n",
            "Given Year 1972 is a Leap year\n",
            "Enter the year to check:2000\n",
            "Given Year 2000 is a Leap year\n",
            "Enter the year to check:2100\n",
            "Given year is not leap year.\n",
            "Enter the year to check:1973\n",
            "Given year is not leap year.\n",
            "Enter the year to check:1900\n",
            "Given year is not leap year.\n"
          ]
        }
      ]
    },
    {
      "cell_type": "code",
      "metadata": {
        "colab": {
          "base_uri": "https://localhost:8080/"
        },
        "id": "DumDi5BIVNIS",
        "outputId": "9647367c-9ec2-493c-bd39-f35d54b5afb7"
      },
      "source": [
        "def weird(num):\n",
        "  if num%2!=0:\n",
        "    return 'Weird'\n",
        "  else:\n",
        "    if num<=5 and num>=2:\n",
        "      return 'Not Weird'\n",
        "    elif num>=6 and num<=20:\n",
        "      return 'Weird'\n",
        "    elif num>20:\n",
        "      return 'Not Weird'\n",
        "    else:\n",
        "      return 'Negative and even number'\n",
        "  \n",
        "for i in range(6):\n",
        "  k=int(input(\"Enter the number:\"))\n",
        "  print(f'Weird({k}):{weird(k)}')"
      ],
      "execution_count": 9,
      "outputs": [
        {
          "output_type": "stream",
          "name": "stdout",
          "text": [
            "Enter the number:5\n",
            "Weird(5):Weird\n",
            "Enter the number:-5\n",
            "Weird(-5):Weird\n",
            "Enter the number:4\n",
            "Weird(4):Not Weird\n",
            "Enter the number:-4\n",
            "Weird(-4):Negative and even number\n",
            "Enter the number:8\n",
            "Weird(8):Weird\n",
            "Enter the number:28\n",
            "Weird(28):Not Weird\n"
          ]
        }
      ]
    },
    {
      "cell_type": "code",
      "metadata": {
        "colab": {
          "base_uri": "https://localhost:8080/"
        },
        "id": "c1B8s2ekW_uo",
        "outputId": "795b21d0-3219-4f8c-cc37-dbf2133b9f11"
      },
      "source": [
        "def fashionabily_late(persons):\n",
        "  k=len(persons)\n",
        "  for n in range(int(k/2),k-1):\n",
        "    print(\"late:\",persons[n])\n",
        "party_list=['Akame','Balu','Chaitanya','devendra','eshwar','fairoz','govind','harish','ismail','jagadeesh','kakashi','naruto','sasuke']\n",
        "\n",
        "print(\"GUEST LIST:\",party_list)\n",
        "print(\"Following People are Fashionably late:\")\n",
        "fashionabily_late(party_list)                "
      ],
      "execution_count": 20,
      "outputs": [
        {
          "output_type": "stream",
          "name": "stdout",
          "text": [
            "GUEST LIST: ['Akame', 'Balu', 'Chaitanya', 'devendra', 'eshwar', 'fairoz', 'govind', 'harish', 'ismail', 'jagadeesh', 'kakashi', 'naruto', 'sasuke']\n",
            "Following People are Fashionably late:\n",
            "late: govind\n",
            "late: harish\n",
            "late: ismail\n",
            "late: jagadeesh\n",
            "late: kakashi\n",
            "late: naruto\n"
          ]
        }
      ]
    },
    {
      "cell_type": "code",
      "metadata": {
        "colab": {
          "base_uri": "https://localhost:8080/"
        },
        "id": "5MWFyCjeb5nx",
        "outputId": "aed5fe81-32af-4894-db4f-f7e8bd9b1f34"
      },
      "source": [
        "def finding(file,folder):\n",
        "  file=file.lower()\n",
        "  for i in folder:\n",
        "    i=i.lower()\n",
        "    i=i.replace(\".\",\"\")\n",
        "    i=i.replace(\",\",\"\")\n",
        "    for j in i.split():\n",
        "      if j==file:\n",
        "        print('file:',i)\n",
        "\n",
        "search=['vampire','vampires','dracula the vampire','vampire.hunter''vampire. hunter','vamper','vampire,closet','vampire , closet','typhoon','taste the closed vampire']  \n",
        "print(\"given list:\",search)\n",
        "finding('vampire',search)"
      ],
      "execution_count": 38,
      "outputs": [
        {
          "output_type": "stream",
          "name": "stdout",
          "text": [
            "given list: ['vampire', 'vampires', 'dracula the vampire', 'vampire. hunter', 'vamper', 'vampire,closet', 'typhonn', 'taste the closed vampire']\n",
            "file: vampire\n",
            "file: dracula the vampire\n",
            "file: vampire hunter\n",
            "file: taste the closed vampire\n"
          ]
        }
      ]
    },
    {
      "cell_type": "code",
      "metadata": {
        "colab": {
          "base_uri": "https://localhost:8080/"
        },
        "id": "vjrBfhmSwQZM",
        "outputId": "41346028-6d14-42cd-e987-751f02034898"
      },
      "source": [
        "def gross_pay(money):\n",
        "  return money+money*(40/100)+money*(20/100)\n",
        "\n",
        "bp=float(input(\"Enter the employee's basic pay:\"))\n",
        "print(\"gross pay:\",gross_pay(bp))"
      ],
      "execution_count": 27,
      "outputs": [
        {
          "output_type": "stream",
          "name": "stdout",
          "text": [
            "Enter the employee's basic pay:45000\n",
            "gross pay: 72000.0\n"
          ]
        }
      ]
    }
  ]
}